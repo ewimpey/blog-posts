{
 "cells": [
  {
   "cell_type": "code",
   "execution_count": 1,
   "metadata": {},
   "outputs": [],
   "source": [
    "# Import numpy, get dataset\n",
    "import numpy as np\n",
    "import statsmodels.api as sm\n",
    "mtcars = sm.datasets.get_rdataset(\"mtcars\").data.to_numpy()"
   ]
  },
  {
   "cell_type": "code",
   "execution_count": 33,
   "metadata": {},
   "outputs": [],
   "source": [
    "# Get arrays for x and y\n",
    "y = mtcars[:,0]\n",
    "x = mtcars[:,1:]"
   ]
  },
  {
   "cell_type": "code",
   "execution_count": 49,
   "metadata": {},
   "outputs": [],
   "source": [
    "# get a column of 1s\n",
    "n_rows = x.shape[0]\n",
    "ones = np.ones((n_rows, 1))\n",
    "\n",
    "# Add column of ones to x\n",
    "x = np.hstack((ones, x))"
   ]
  },
  {
   "cell_type": "code",
   "execution_count": 52,
   "metadata": {},
   "outputs": [
    {
     "name": "stdout",
     "output_type": "stream",
     "text": [
      "[12.30337416 -0.11144048  0.01333524 -0.02148212  0.78711097 -3.71530393\n",
      "  0.82104075  0.31776281  2.52022689  0.65541302 -0.19941925]\n"
     ]
    }
   ],
   "source": [
    "# matrix operations\n",
    "\n",
    "# x.T * x\n",
    "xtx = np.dot(x.T, x)\n",
    "\n",
    "# take the inverse\n",
    "xtxi = np.linalg.inv(xtx)\n",
    "\n",
    "# x.T * y\n",
    "xty = np.dot(x.T, y)\n",
    "\n",
    "# (X.t*x)**-1 * X.t*y for parameter estimates\n",
    "print(np.dot(xtxi, xty))"
   ]
  },
  {
   "cell_type": "code",
   "execution_count": null,
   "metadata": {},
   "outputs": [],
   "source": []
  }
 ],
 "metadata": {
  "kernelspec": {
   "display_name": "Python 3",
   "language": "python",
   "name": "python3"
  },
  "language_info": {
   "codemirror_mode": {
    "name": "ipython",
    "version": 3
   },
   "file_extension": ".py",
   "mimetype": "text/x-python",
   "name": "python",
   "nbconvert_exporter": "python",
   "pygments_lexer": "ipython3",
   "version": "3.11.5"
  }
 },
 "nbformat": 4,
 "nbformat_minor": 2
}
