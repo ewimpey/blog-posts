{
 "cells": [
  {
   "cell_type": "code",
   "execution_count": 1,
   "metadata": {},
   "outputs": [],
   "source": [
    "from itertools import combinations\n",
    "import numpy as np\n",
    "import random\n",
    "import pandas as pd"
   ]
  },
  {
   "cell_type": "code",
   "execution_count": 2,
   "metadata": {},
   "outputs": [],
   "source": [
    "# List all of the teams\n",
    "\n",
    "teams = [\n",
    "    \"Boston College\", \"Clemson\", \"Duke\", \"Florida State\", \"Georgia Tech\",\n",
    "    \"Louisville\", \"Miami\", \"North Carolina\", \"NC State\", \"Notre Dame\",\n",
    "    \"Pitt\", \"Virginia\", \"Virginia Tech\", \"Wake Forest\"\n",
    "]\n"
   ]
  },
  {
   "cell_type": "code",
   "execution_count": 3,
   "metadata": {},
   "outputs": [],
   "source": [
    "# Generate a random schedule\n",
    "\n",
    "def generate_unique_matchups_schedule(teams):\n",
    "    num_unique_matchups = 10  # Each team plays 10 unique matchups\n",
    "    games_per_matchup = 3  # Each matchup is played 3 times\n",
    "    num_days = 30  # Total days of play\n",
    "    games_per_day = 7  # Games per day\n",
    "\n",
    "    # Generate unique matchups for each team ensuring each plays 10 other teams\n",
    "    all_matchups = list(combinations(teams, 2))  # All possible unique pairs of teams\n",
    "    np.random.shuffle(all_matchups)  # Shuffle the matchups\n",
    "\n",
    "    team_matchups = {team: [] for team in teams}  # Track matchups for each team\n",
    "    valid_matchups = []  # Store valid selected matchups\n",
    "\n",
    "    # Select 10 unique matchups for each team\n",
    "    for matchup in all_matchups:\n",
    "        team1, team2 = matchup\n",
    "        if len(team_matchups[team1]) < num_unique_matchups and len(team_matchups[team2]) < num_unique_matchups:\n",
    "            team_matchups[team1].append(matchup)\n",
    "            team_matchups[team2].append(matchup)\n",
    "            valid_matchups.append(matchup)\n",
    "            if all(len(matches) == num_unique_matchups for matches in team_matchups.values()):\n",
    "                break\n",
    "\n",
    "    # Expand each matchup into 3 games\n",
    "    expanded_matchups = []\n",
    "    for matchup in valid_matchups:\n",
    "        expanded_matchups.extend([matchup] * games_per_matchup)\n",
    "\n",
    "    # Shuffle the expanded list of matchups to distribute them randomly across days\n",
    "    np.random.shuffle(expanded_matchups)\n",
    "\n",
    "    # Organize games into days\n",
    "    schedule = []\n",
    "    for day in range(num_days):\n",
    "        day_schedule = expanded_matchups[day * games_per_day:(day + 1) * games_per_day]\n",
    "        for game in day_schedule:\n",
    "            schedule.append((day + 1, game[0], game[1]))\n",
    "\n",
    "    return schedule\n",
    "\n",
    "# Can't figure out how to ensure validity, so wrapping here\n",
    "def get_valid_sched(teams):\n",
    "    valid = False\n",
    "    while not valid:\n",
    "        schedule = generate_unique_matchups_schedule(teams)\n",
    "        # Count the number of games for each team\n",
    "        game_counts = {team: 0 for team in teams}\n",
    "        for _, team1, team2 in schedule:\n",
    "            game_counts[team1] += 1\n",
    "            game_counts[team2] += 1\n",
    "        # Check if total games are 210 (each game is counted twice, once for each team)\n",
    "        if sum(game_counts.values()) == 420:\n",
    "            valid = True\n",
    "    return schedule\n"
   ]
  },
  {
   "cell_type": "code",
   "execution_count": 4,
   "metadata": {},
   "outputs": [
    {
     "data": {
      "text/plain": [
       "210"
      ]
     },
     "execution_count": 4,
     "metadata": {},
     "output_type": "execute_result"
    }
   ],
   "source": [
    "# Generate the schedule and check the first few entries\n",
    "unique_matchups_schedule = get_valid_sched(teams)\n",
    "len(unique_matchups_schedule)"
   ]
  },
  {
   "cell_type": "code",
   "execution_count": 5,
   "metadata": {},
   "outputs": [],
   "source": [
    "# Use dataframes like a good data scientist\n",
    "sched = pd.DataFrame(unique_matchups_schedule, columns=['day', 'team1', 'team2'])\n",
    "\n",
    "import pandas as pd\n",
    "import numpy as np\n",
    "\n",
    "def simulate_season(teams, sched, distribution=np.random.normal, scale = 1):\n",
    "    # Step 1: Assign skill levels from the specified distribution\n",
    "    skills = distribution(size = len(teams), scale = scale)\n",
    "    team_skills = dict(zip(teams, skills))\n",
    "    \n",
    "    # Step 3: Simulate each game\n",
    "    results = {team: {'wins': 0, 'losses': 0} for team in teams}\n",
    "    for day, team1, team2 in sched:\n",
    "        skill_diff = team_skills[team1] - team_skills[team2]\n",
    "        probability_team1_wins = 1 / (1 + np.exp(-skill_diff))  # Logistic function to determine win probability\n",
    "        \n",
    "        if np.random.rand() < probability_team1_wins:\n",
    "            results[team1]['wins'] += 1\n",
    "            results[team2]['losses'] += 1\n",
    "        else:\n",
    "            results[team2]['wins'] += 1\n",
    "            results[team1]['losses'] += 1\n",
    "            \n",
    "    # Step 4: Create output DataFrame\n",
    "    records_df = pd.DataFrame.from_dict(results, orient='index').sort_values('wins', ascending=False)\n",
    "    \n",
    "    return records_df\n",
    "\n"
   ]
  },
  {
   "cell_type": "code",
   "execution_count": 6,
   "metadata": {},
   "outputs": [
    {
     "name": "stdout",
     "output_type": "stream",
     "text": [
      "                wins  losses\n",
      "Pitt              22       8\n",
      "Virginia          20      10\n",
      "Wake Forest       19      11\n",
      "Notre Dame        17      13\n",
      "Boston College    16      14\n",
      "Georgia Tech      16      14\n",
      "Virginia Tech     15      15\n",
      "Florida State     14      16\n",
      "North Carolina    14      16\n",
      "Clemson           13      17\n",
      "Miami             13      17\n",
      "NC State          13      17\n",
      "Louisville        11      19\n",
      "Duke               7      23\n"
     ]
    }
   ],
   "source": [
    "\n",
    "season_results = simulate_season(teams, unique_matchups_schedule, distribution=np.random.normal, scale=0)\n",
    "print(season_results)"
   ]
  },
  {
   "cell_type": "code",
   "execution_count": 7,
   "metadata": {},
   "outputs": [],
   "source": [
    "# Simulate a bunch of random seasons\n",
    "def simulate_seasons(teams, sched, n = 10000, distribution=np.random.normal, scale = 1):\n",
    "    max_wins_each_season = []\n",
    "\n",
    "    for _ in range(n):\n",
    "        season_results = simulate_season(teams, sched, distribution, scale)\n",
    "        max_wins = season_results.wins.max()\n",
    "        max_wins_each_season.append(max_wins)\n",
    "    \n",
    "    return max_wins_each_season\n"
   ]
  },
  {
   "cell_type": "code",
   "execution_count": 8,
   "metadata": {},
   "outputs": [],
   "source": [
    "s = simulate_seasons(teams, unique_matchups_schedule, scale=0)"
   ]
  },
  {
   "cell_type": "code",
   "execution_count": 29,
   "metadata": {},
   "outputs": [],
   "source": [
    "import matplotlib.pyplot as plt\n",
    "import numpy as np\n",
    "from scipy.stats import percentileofscore\n",
    "\n",
    "def plot_distribution(data):\n",
    "    plt.figure(figsize=(10, 6))\n",
    "    plt.hist(data, bins=11, color='blue', alpha=1.0, edgecolor='black', rwidth=1.0, range=(16, 26))\n",
    "    plt.title('Max Wins if All Teams Equal')\n",
    "    plt.xlabel('Wins')\n",
    "    plt.ylabel(None)  # Removes y-axis label\n",
    "    plt.gca().axes.get_yaxis().set_visible(False)  # Hides y-axis ticks and numbers\n",
    "    plt.grid(False)\n",
    "    plt.show()\n",
    "\n",
    "def find_percentile(data, value):\n",
    "    # Calculate the percentile rank of the given value in the data\n",
    "    rank = percentileofscore(data, value)\n",
    "    return rank\n",
    "\n",
    "\n"
   ]
  },
  {
   "cell_type": "code",
   "execution_count": 30,
   "metadata": {},
   "outputs": [
    {
     "data": {
      "image/png": "[encoded data removed]",
      "text/plain": [
       "<Figure size 1000x600 with 1 Axes>"
      ]
     },
     "metadata": {},
     "output_type": "display_data"
    }
   ],
   "source": [
    "plot_distribution(s)"
   ]
  },
  {
   "cell_type": "code",
   "execution_count": 31,
   "metadata": {},
   "outputs": [
    {
     "data": {
      "text/plain": [
       "92.755"
      ]
     },
     "execution_count": 31,
     "metadata": {},
     "output_type": "execute_result"
    }
   ],
   "source": [
    "find_percentile(s, 22)"
   ]
  },
  {
   "cell_type": "code",
   "execution_count": null,
   "metadata": {},
   "outputs": [],
   "source": []
  }
 ],
 "metadata": {
  "kernelspec": {
   "display_name": "crescent",
   "language": "python",
   "name": "python3"
  },
  "language_info": {
   "codemirror_mode": {
    "name": "ipython",
    "version": 3
   },
   "file_extension": ".py",
   "mimetype": "text/x-python",
   "name": "python",
   "nbconvert_exporter": "python",
   "pygments_lexer": "ipython3",
   "version": "3.10.8"
  }
 },
 "nbformat": 4,
 "nbformat_minor": 2
}
