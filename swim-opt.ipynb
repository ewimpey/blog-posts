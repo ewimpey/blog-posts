{
 "cells": [
  {
   "cell_type": "code",
   "execution_count": null,
   "metadata": {},
   "outputs": [],
   "source": [
    "import pandas as pd\n",
    "import numpy as np\n",
    "import pulp # this is a popular optimization library\n"
   ]
  },
  {
   "cell_type": "code",
   "execution_count": null,
   "metadata": {},
   "outputs": [],
   "source": [
    "# Functions to find the best team\n",
    "\n",
    "def load_and_prepare_data(file_path):\n",
    "    # Load the data from the Excel file.\n",
    "    # This is the function to change if you have a better format for swimmers and their best times\n",
    "    data = pd.read_excel(file_path) \n",
    "\n",
    "    # Just put in a very high time for any missing strokes\n",
    "    data['Time'] = data['Time'].fillna(data['Time'].max())\n",
    "\n",
    "    return data\n",
    "\n",
    "def find_optimal_team(data):\n",
    "    # Define strokes\n",
    "    strokes = ['Free', 'Back', 'Breast', 'Fly']\n",
    "\n",
    "    # Create a list of all unique swimmers\n",
    "    swimmers = data['Swimmer Num'].unique()\n",
    "\n",
    "    # Create a dictionary for the swimmer times\n",
    "    swimmer_times = {(row['Swimmer Num'], row['Stroke']): row['Time'] for idx, row in data.iterrows()}\n",
    "\n",
    "    # Create the optimization problem\n",
    "    prob = pulp.LpProblem(\"MedleyRelayTeamOptimization\", pulp.LpMinimize)\n",
    "\n",
    "    # Define decision variables given a list of swimmers and strokes\n",
    "    decision_vars = pulp.LpVariable.dicts(\"SwimmerStroke\", ((swimmer, stroke) \n",
    "                                                            for swimmer in swimmers for stroke in strokes), \n",
    "                                          cat='Binary')\n",
    "\n",
    "    # Objective function: minimize total time given a dict of times\n",
    "    prob += pulp.lpSum([swimmer_times[(swimmer, stroke)] * decision_vars[(swimmer, stroke)] \n",
    "                        for swimmer in swimmers for stroke in strokes])\n",
    "\n",
    "    # Constraints: Each stroke must be assigned exactly one swimmer\n",
    "    for stroke in strokes:\n",
    "        prob += pulp.lpSum([decision_vars[(swimmer, stroke)] for swimmer in swimmers]) == 1\n",
    "\n",
    "    # Constraints: Each swimmer can only be assigned to one stroke\n",
    "    for swimmer in swimmers:\n",
    "        prob += pulp.lpSum([decision_vars[(swimmer, stroke)] for stroke in strokes]) <= 1\n",
    "\n",
    "    # Solve the problem\n",
    "    prob.solve()\n",
    "\n",
    "    # Get the results\n",
    "    best_team = []\n",
    "    for swimmer in swimmers:\n",
    "        for stroke in strokes:\n",
    "            if pulp.value(decision_vars[(swimmer, stroke)]) == 1:\n",
    "                best_team.append((swimmer, stroke, swimmer_times[(swimmer, stroke)]))\n",
    "\n",
    "    return best_team\n",
    "\n",
    "def generate_top_n_teams(file_path, n):\n",
    "    data = load_and_prepare_data(file_path)\n",
    "    all_teams = []\n",
    "\n",
    "    for i in range(n):\n",
    "        best_team = find_optimal_team(data)\n",
    "        if not best_team:\n",
    "            break\n",
    "\n",
    "        all_teams.append(best_team)\n",
    "\n",
    "        # Remove the swimmers in the best team from the dataset\n",
    "        selected_swimmers = [swimmer for swimmer, stroke, time in best_team]\n",
    "        data = data[~data['Swimmer Num'].isin(selected_swimmers)]\n",
    "\n",
    "    return all_teams\n",
    "\n",
    "# Print the results in a user-friendly format\n",
    "def print_teams(teams):\n",
    "    for i, team in enumerate(teams, start=1):\n",
    "        print(f\"#{i} Medley Team:\")\n",
    "        for swimmer, stroke, time in team:\n",
    "            print(f\"Swimmer: {swimmer}, Stroke: {stroke}, Time: {time:.2f}\")\n",
    "        total_time = sum(time for swimmer, stroke, time in team)\n",
    "        print(f\"Total Time: {total_time:.2f}\\n\")\n",
    "\n"
   ]
  },
  {
   "cell_type": "code",
   "execution_count": null,
   "metadata": {},
   "outputs": [],
   "source": [
    "# File paths\n",
    "file_path = 'swim-opt.xlsx'\n",
    "\n",
    "# Generate top N teams\n",
    "n = 2\n",
    "top_teams = generate_top_n_teams(file_path, n)"
   ]
  },
  {
   "cell_type": "code",
   "execution_count": null,
   "metadata": {},
   "outputs": [],
   "source": [
    "print_teams(top_teams)"
   ]
  }
 ],
 "metadata": {
  "kernelspec": {
   "display_name": "hubspot",
   "language": "python",
   "name": "python3"
  },
  "language_info": {
   "codemirror_mode": {
    "name": "ipython",
    "version": 3
   },
   "file_extension": ".py",
   "mimetype": "text/x-python",
   "name": "python",
   "nbconvert_exporter": "python",
   "pygments_lexer": "ipython3",
   "version": "3.10.8"
  }
 },
 "nbformat": 4,
 "nbformat_minor": 2
}
