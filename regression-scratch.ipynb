{
 "cells": [
  {
   "cell_type": "code",
   "execution_count": 1,
   "metadata": {},
   "outputs": [],
   "source": [
    "# get dataset as list\n",
    "import statsmodels.api as sm\n",
    "mtcars = sm.datasets.get_rdataset(\"mtcars\", \"datasets\", cache=True).data.values.tolist()"
   ]
  },
  {
   "cell_type": "code",
   "execution_count": 217,
   "metadata": {},
   "outputs": [],
   "source": [
    "# get x and y as lists? fuck it how else...\n",
    "y = [[i[0]] for i in mtcars]\n",
    "x = [[1] + i[1:] for i in mtcars] # don't forget to add the 1s for intercept term!"
   ]
  },
  {
   "cell_type": "code",
   "execution_count": 228,
   "metadata": {},
   "outputs": [
    {
     "data": {
      "text/plain": [
       "[[1, 3], [-2, 4]]"
      ]
     },
     "execution_count": 228,
     "metadata": {},
     "output_type": "execute_result"
    }
   ],
   "source": [
    "# helper function to transpose X\n",
    "\n",
    "def transpose(matrix):\n",
    "    ncol = len(matrix[0])\n",
    "    matrixt = []\n",
    "    for c in range(ncol):\n",
    "        row = [n[c] for n in matrix]\n",
    "        matrixt = matrixt + [row]\n",
    "    return matrixt\n",
    "\n",
    "# Example for testing\n",
    "d = [[1, -2], [3, 4]]\n",
    "transpose(d)\n"
   ]
  },
  {
   "cell_type": "code",
   "execution_count": 268,
   "metadata": {},
   "outputs": [
    {
     "data": {
      "text/plain": [
       "[[10, 10], [10, 20]]"
      ]
     },
     "execution_count": 268,
     "metadata": {},
     "output_type": "execute_result"
    }
   ],
   "source": [
    "# helper function to multiply two matrices\n",
    "\n",
    "def matrix_multiply(m1, m2):\n",
    "    \n",
    "    # Get number of rows in LH matrix, cols in RH matrix\n",
    "    num_rows = len(m1)\n",
    "    num_cols = len(m2[0])\n",
    "    # placeholder for all values in matrix\n",
    "    vals = []\n",
    "\n",
    "    # multiply and sum rows of m1 with cols of m2\n",
    "    for i in range(num_rows):\n",
    "        for j in range(num_cols):\n",
    "            m1r = [elem for elem in m1[i]] # elements in row of m1\n",
    "            m2c = [elem[j] for elem in m2] # elements in col of m2\n",
    "            \n",
    "            val = sum([a*b for a,b in zip(m1r, m2c)]) # multiply and sum\n",
    "            # add to single list\n",
    "            vals = vals + [val]\n",
    "\n",
    "    # organizing values to the correct rows/columns. Each list a row.\n",
    "    output = [vals[i:i+num_rows] for i in range(0,len(vals), num_rows)]\n",
    "\n",
    "    return output\n",
    "\n",
    "# example for checking\n",
    "matrix_multiply(transpose(d), d)\n",
    "\n",
    "\n"
   ]
  },
  {
   "cell_type": "code",
   "execution_count": 262,
   "metadata": {},
   "outputs": [
    {
     "data": {
      "text/plain": [
       "[[0.2, -0.1], [-0.1, 0.1]]"
      ]
     },
     "execution_count": 262,
     "metadata": {},
     "output_type": "execute_result"
    }
   ],
   "source": [
    "# helper function for matrix inversion. SVD? some way to generalize the way I do it by hand?? dern...\n",
    "# okay the way I do it by hand is called Gauss-Jordan row elimination, aparantly \n",
    "\n",
    "# this cell largely supplemented by ChatGPT\n",
    "\n",
    "def augment_matrix(matrix):\n",
    "    \"\"\"Augment the given square matrix with the identity matrix of the same size.\"\"\"\n",
    "    size = len(matrix)\n",
    "    identity = [[float(i == j) for i in range(size)] for j in range(size)]\n",
    "    augmented = [row + identity_row for row, identity_row in zip(matrix, identity)]\n",
    "    return augmented\n",
    "\n",
    "def row_reduce(augmented):\n",
    "    \"\"\"Perform row reduction on the augmented matrix.\"\"\"\n",
    "    n = len(augmented)\n",
    "    for i in range(n):\n",
    "        # Make the diagonal element 1.\n",
    "        factor = augmented[i][i]\n",
    "        for j in range(2 * n):\n",
    "            augmented[i][j] /= factor\n",
    "        \n",
    "        # Make the other elements in the current column 0.\n",
    "        for k in range(n):\n",
    "            if k != i:\n",
    "                factor = augmented[k][i]\n",
    "                for j in range(2 * n):\n",
    "                    augmented[k][j] -= factor * augmented[i][j]\n",
    "    return augmented\n",
    "\n",
    "def invert_matrix(matrix):\n",
    "    \"\"\"Invert a square matrix using row reduction.\"\"\"\n",
    "    augmented = augment_matrix(matrix)\n",
    "    inverted = row_reduce(augmented)\n",
    "    # Extract the inverted matrix from the augmented matrix\n",
    "    size = len(matrix)\n",
    "    inverse = [row[size:] for row in inverted]\n",
    "    return inverse\n",
    "\n",
    "invert_matrix(matrix_multiply(transpose(d), d))\n"
   ]
  },
  {
   "cell_type": "code",
   "execution_count": 273,
   "metadata": {},
   "outputs": [],
   "source": [
    "# Solve for regression coefficients\n",
    "# x transpose x\n",
    "xtx = matrix_multiply(transpose(x), x)\n",
    "\n",
    "# now invert xtx.....\n",
    "xtxi = invert_matrix(xtx)\n",
    "\n",
    "# x transpose * y\n",
    "xty = matrix_multiply(transpose(x), y)\n",
    "# fixing the stupid list format\n",
    "xty = [[i] for i in xty[0]]\n",
    "\n",
    "\n",
    "# now calculate B vector\n",
    "params = matrix_multiply(xtxi, newxty)"
   ]
  },
  {
   "cell_type": "code",
   "execution_count": 274,
   "metadata": {},
   "outputs": [
    {
     "data": {
      "text/plain": [
       "[[12.303374155982851,\n",
       "  -0.11144047788650369,\n",
       "  0.013335239913339514,\n",
       "  -0.02148211898913388,\n",
       "  0.7871109722369738,\n",
       "  -3.715303928327444,\n",
       "  0.8210407496749781,\n",
       "  0.31776281418547825,\n",
       "  2.5202268872089206,\n",
       "  0.6554130170821963,\n",
       "  -0.19941925485639445]]"
      ]
     },
     "execution_count": 274,
     "metadata": {},
     "output_type": "execute_result"
    }
   ],
   "source": [
    "params"
   ]
  }
 ],
 "metadata": {
  "kernelspec": {
   "display_name": "Python 3",
   "language": "python",
   "name": "python3"
  },
  "language_info": {
   "codemirror_mode": {
    "name": "ipython",
    "version": 3
   },
   "file_extension": ".py",
   "mimetype": "text/x-python",
   "name": "python",
   "nbconvert_exporter": "python",
   "pygments_lexer": "ipython3",
   "version": "3.11.5"
  }
 },
 "nbformat": 4,
 "nbformat_minor": 2
}
