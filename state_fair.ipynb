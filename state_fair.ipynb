{
 "cells": [
  {
   "cell_type": "code",
   "execution_count": 3,
   "metadata": {},
   "outputs": [
    {
     "data": {
      "text/plain": [
       "(0.3018, 0.4590389525955287, 0.3039, 0.5220582247221089)"
      ]
     },
     "execution_count": 3,
     "metadata": {},
     "output_type": "execute_result"
    }
   ],
   "source": [
    "import random\n",
    "import numpy as np\n",
    "import pandas as pd\n",
    "\n",
    "# Function to simulate one contest where all three of you play in the same game\n",
    "def simulate_single_contest_same_game(n):\n",
    "    # Choose a winner randomly from n players\n",
    "    winner = random.randint(1, n)\n",
    "    \n",
    "    # Check if one of you (labeled 1, 2, 3) won\n",
    "    if winner in [1, 2, 3]:\n",
    "        return 1  # one of you won\n",
    "    else:\n",
    "        return 0  # none of you won\n",
    "\n",
    "# Function to simulate one contest where each of you play in separate games\n",
    "def simulate_single_contest_separate_games(n):\n",
    "    wins = 0\n",
    "    for i in range(3):  # for each of you\n",
    "        # Choose a winner randomly from n players\n",
    "        winner = random.randint(1, n)\n",
    "        \n",
    "        # Check if you (labeled as 1) won in the game\n",
    "        if winner == 1:\n",
    "            wins += 1\n",
    "    \n",
    "    return wins\n",
    "\n",
    "# Main simulation function\n",
    "def simulate_contests(n, num_simulations=10000):\n",
    "    # Lists to store results\n",
    "    wins_same_game = []\n",
    "    wins_separate_games = []\n",
    "    \n",
    "    # Simulate num_simulations times\n",
    "    for _ in range(num_simulations):\n",
    "        wins_same_game.append(simulate_single_contest_same_game(n))\n",
    "        wins_separate_games.append(simulate_single_contest_separate_games(n))\n",
    "    \n",
    "    # Calculate averages and standard deviations\n",
    "    avg_same_game = np.mean(wins_same_game)\n",
    "    std_same_game = np.std(wins_same_game)\n",
    "    \n",
    "    avg_separate_games = np.mean(wins_separate_games)\n",
    "    std_separate_games = np.std(wins_separate_games)\n",
    "    \n",
    "    return avg_same_game, std_same_game, avg_separate_games, std_separate_games\n",
    "\n",
    "# Run simulation for n=10 as an example\n",
    "simulate_contests(10)\n"
   ]
  },
  {
   "cell_type": "markdown",
   "metadata": {},
   "source": [
    "### This was used for the following LI post\n",
    "\n",
    "Here's how I used statistics to win Gengar at the State Fair. 🎪 📈\n",
    "\n",
    "My family went to the State Fair last night. My two older kids got a budget to spend on games, snacks, or whatever they wanted.\n",
    "\n",
    "They blew most of it on the world's largest gummy bear and some fried Oreos, but then they saw the giant Gengar. They had just enough money to each play the carnival game one time.\n",
    "\n",
    "🎯 The carnival game was one of those \"shoot the water at the target\" racing games. Each game has up to 20 contestants all racing against each other, and the winner gets Gengar (or another prize, but c'mon, who wouldn't choose Gengar??).\n",
    "\n",
    "This is where my wife stepped in: \"You should play in different contests, that way you both have a chance to win! If you play in the same contest, you could only win one\".\n",
    "\n",
    "That's very true, but it isn't the only consideration. These kids play well together, and could happily share one giant Gengar. While they'd prefer two Gengars to one, there's a much bigger difference in having one versus zero.\n",
    "\n",
    "So break out the statistics! What's the expected number of Gengars if they play in the same game with n people? 🤔\n",
    "▪ EG (Expected Gengars) = 2/n\n",
    "\n",
    "What if they play in separate games?\n",
    "▪ EG = 2 * 1/n = 2/n. It's exactly the same!\n",
    "\n",
    "So, it doesn't matter whether they play in the same contest or not?\n",
    "\n",
    "Actually it does! EG is giving us the AVERAGE number of Gengars they should expect, but we care about uncertainty as well. If they play in the same game, they could either win 0 or 1 Gengar. If they play in separate games they could either win 0, 1, or 2 Gengars.\n",
    "\n",
    "So, if what we care about is maximizing the chance to win a Gengar, then we should prefer them to both play in the same game! If we want an opportunity to win 2, we should prefer them to play in different games.\n",
    "\n",
    "Just like in business, it's important to understand tradeoffs so that you're asking the right questions and making the best decisions!\n",
    "\n",
    "So what did we do?? Of course, we did what my spouse suggested - they played in different games, both lost, no Gengar, and out of money......\n",
    "\n",
    "Until Dad came in, played while they were in the maze, and won a Gengar!\n",
    "\n",
    "Now the only question is whether I will share as well as my kids do.\n",
    "\n",
    "#statistics #dataanalysis #pokemon #statefair"
   ]
  },
  {
   "cell_type": "markdown",
   "metadata": {},
   "source": []
  }
 ],
 "metadata": {
  "kernelspec": {
   "display_name": "pokemon",
   "language": "python",
   "name": "python3"
  },
  "language_info": {
   "codemirror_mode": {
    "name": "ipython",
    "version": 3
   },
   "file_extension": ".py",
   "mimetype": "text/x-python",
   "name": "python",
   "nbconvert_exporter": "python",
   "pygments_lexer": "ipython3",
   "version": "3.8.18"
  }
 },
 "nbformat": 4,
 "nbformat_minor": 2
}
